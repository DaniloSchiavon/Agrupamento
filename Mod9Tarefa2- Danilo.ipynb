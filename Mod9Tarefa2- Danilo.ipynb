{
 "cells": [
  {
   "cell_type": "markdown",
   "metadata": {
    "id": "eYvCczy6lTt7"
   },
   "source": [
    "# Livro para consulta:\n",
    "- https://jakevdp.github.io/PythonDataScienceHandbook/03.08-aggregation-and-grouping.html\n",
    "- https://jakevdp.github.io/PythonDataScienceHandbook/03.09-pivot-tables.html\n",
    "    "
   ]
  },
  {
   "cell_type": "markdown",
   "metadata": {
    "id": "oeWprAfnlTt-"
   },
   "source": [
    "# 1. Importando bibliotecas <a name=\"import\"></a>\n",
    "\n",
    "<div style=\"text-align: right\"\n",
    "     \n",
    "[Voltar ao índice](#Contents)"
   ]
  },
  {
   "cell_type": "code",
   "execution_count": 16,
   "metadata": {
    "ExecuteTime": {
     "end_time": "2021-06-06T21:12:37.298706Z",
     "start_time": "2021-06-06T21:12:36.656481Z"
    },
    "id": "y_9gYudilTt_"
   },
   "outputs": [],
   "source": [
    "import numpy as np\n",
    "import pandas as pd\n",
    "import seaborn as sns\n",
    "import matplotlib.pyplot as plt\n",
    "    \n",
    "%matplotlib inline"
   ]
  },
  {
   "cell_type": "code",
   "execution_count": null,
   "metadata": {
    "id": "1yNG4iFTlTuA"
   },
   "outputs": [],
   "source": []
  },
  {
   "cell_type": "markdown",
   "metadata": {
    "id": "-cpxC-IBlTuA"
   },
   "source": [
    "# 2. Carregando o dataframe SINASC <a name=\"read\"></a>\n",
    "<div style=\"text-align: right\"\n",
    "     \n",
    "[Voltar ao índice](#Contents)"
   ]
  },
  {
   "cell_type": "code",
   "execution_count": 18,
   "metadata": {
    "ExecuteTime": {
     "end_time": "2021-06-06T21:12:37.762376Z",
     "start_time": "2021-06-06T21:12:37.728383Z"
    },
    "id": "nQZn7u4DlTuB",
    "outputId": "74b44036-69d9-4139-b291-621d77ed331b",
    "scrolled": true
   },
   "outputs": [
    {
     "data": {
      "text/html": [
       "<div>\n",
       "<style scoped>\n",
       "    .dataframe tbody tr th:only-of-type {\n",
       "        vertical-align: middle;\n",
       "    }\n",
       "\n",
       "    .dataframe tbody tr th {\n",
       "        vertical-align: top;\n",
       "    }\n",
       "\n",
       "    .dataframe thead th {\n",
       "        text-align: right;\n",
       "    }\n",
       "</style>\n",
       "<table border=\"1\" class=\"dataframe\">\n",
       "  <thead>\n",
       "    <tr style=\"text-align: right;\">\n",
       "      <th></th>\n",
       "      <th>ORIGEM</th>\n",
       "      <th>CODESTAB</th>\n",
       "      <th>CODMUNNASC</th>\n",
       "      <th>LOCNASC</th>\n",
       "      <th>IDADEMAE</th>\n",
       "      <th>ESTCIVMAE</th>\n",
       "      <th>ESCMAE</th>\n",
       "      <th>CODOCUPMAE</th>\n",
       "      <th>QTDFILVIVO</th>\n",
       "      <th>QTDFILMORT</th>\n",
       "      <th>...</th>\n",
       "      <th>KOTELCHUCK</th>\n",
       "      <th>CONTADOR</th>\n",
       "      <th>munResStatus</th>\n",
       "      <th>munResTipo</th>\n",
       "      <th>munResNome</th>\n",
       "      <th>munResUf</th>\n",
       "      <th>munResLat</th>\n",
       "      <th>munResLon</th>\n",
       "      <th>munResAlt</th>\n",
       "      <th>munResArea</th>\n",
       "    </tr>\n",
       "  </thead>\n",
       "  <tbody>\n",
       "    <tr>\n",
       "      <th>0</th>\n",
       "      <td>1</td>\n",
       "      <td>2679477.0</td>\n",
       "      <td>110001</td>\n",
       "      <td>1</td>\n",
       "      <td>19</td>\n",
       "      <td>5.0</td>\n",
       "      <td>8 a 11 anos</td>\n",
       "      <td>NaN</td>\n",
       "      <td>0.0</td>\n",
       "      <td>0.0</td>\n",
       "      <td>...</td>\n",
       "      <td>5</td>\n",
       "      <td>1</td>\n",
       "      <td>ATIVO</td>\n",
       "      <td>MUNIC</td>\n",
       "      <td>Alta Floresta D'Oeste</td>\n",
       "      <td>Rondônia</td>\n",
       "      <td>-11.93554</td>\n",
       "      <td>-61.99982</td>\n",
       "      <td>338.0</td>\n",
       "      <td>7067.025</td>\n",
       "    </tr>\n",
       "    <tr>\n",
       "      <th>1</th>\n",
       "      <td>1</td>\n",
       "      <td>2679477.0</td>\n",
       "      <td>110001</td>\n",
       "      <td>1</td>\n",
       "      <td>29</td>\n",
       "      <td>2.0</td>\n",
       "      <td>8 a 11 anos</td>\n",
       "      <td>999992.0</td>\n",
       "      <td>1.0</td>\n",
       "      <td>0.0</td>\n",
       "      <td>...</td>\n",
       "      <td>5</td>\n",
       "      <td>2</td>\n",
       "      <td>ATIVO</td>\n",
       "      <td>MUNIC</td>\n",
       "      <td>Alta Floresta D'Oeste</td>\n",
       "      <td>Rondônia</td>\n",
       "      <td>-11.93554</td>\n",
       "      <td>-61.99982</td>\n",
       "      <td>338.0</td>\n",
       "      <td>7067.025</td>\n",
       "    </tr>\n",
       "    <tr>\n",
       "      <th>2</th>\n",
       "      <td>1</td>\n",
       "      <td>2679477.0</td>\n",
       "      <td>110001</td>\n",
       "      <td>1</td>\n",
       "      <td>37</td>\n",
       "      <td>9.0</td>\n",
       "      <td>8 a 11 anos</td>\n",
       "      <td>513205.0</td>\n",
       "      <td>2.0</td>\n",
       "      <td>0.0</td>\n",
       "      <td>...</td>\n",
       "      <td>5</td>\n",
       "      <td>3</td>\n",
       "      <td>ATIVO</td>\n",
       "      <td>MUNIC</td>\n",
       "      <td>Alta Floresta D'Oeste</td>\n",
       "      <td>Rondônia</td>\n",
       "      <td>-11.93554</td>\n",
       "      <td>-61.99982</td>\n",
       "      <td>338.0</td>\n",
       "      <td>7067.025</td>\n",
       "    </tr>\n",
       "    <tr>\n",
       "      <th>3</th>\n",
       "      <td>1</td>\n",
       "      <td>2516500.0</td>\n",
       "      <td>110001</td>\n",
       "      <td>1</td>\n",
       "      <td>30</td>\n",
       "      <td>5.0</td>\n",
       "      <td>12 anos ou mais</td>\n",
       "      <td>231205.0</td>\n",
       "      <td>0.0</td>\n",
       "      <td>0.0</td>\n",
       "      <td>...</td>\n",
       "      <td>4</td>\n",
       "      <td>4</td>\n",
       "      <td>ATIVO</td>\n",
       "      <td>MUNIC</td>\n",
       "      <td>Alto Alegre dos Parecis</td>\n",
       "      <td>Rondônia</td>\n",
       "      <td>-12.13178</td>\n",
       "      <td>-61.85308</td>\n",
       "      <td>397.0</td>\n",
       "      <td>3958.273</td>\n",
       "    </tr>\n",
       "    <tr>\n",
       "      <th>4</th>\n",
       "      <td>1</td>\n",
       "      <td>2516500.0</td>\n",
       "      <td>110001</td>\n",
       "      <td>1</td>\n",
       "      <td>30</td>\n",
       "      <td>2.0</td>\n",
       "      <td>8 a 11 anos</td>\n",
       "      <td>999992.0</td>\n",
       "      <td>1.0</td>\n",
       "      <td>0.0</td>\n",
       "      <td>...</td>\n",
       "      <td>5</td>\n",
       "      <td>5</td>\n",
       "      <td>ATIVO</td>\n",
       "      <td>MUNIC</td>\n",
       "      <td>Alta Floresta D'Oeste</td>\n",
       "      <td>Rondônia</td>\n",
       "      <td>-11.93554</td>\n",
       "      <td>-61.99982</td>\n",
       "      <td>338.0</td>\n",
       "      <td>7067.025</td>\n",
       "    </tr>\n",
       "  </tbody>\n",
       "</table>\n",
       "<p>5 rows × 69 columns</p>\n",
       "</div>"
      ],
      "text/plain": [
       "   ORIGEM   CODESTAB  CODMUNNASC  LOCNASC  IDADEMAE  ESTCIVMAE  \\\n",
       "0       1  2679477.0      110001        1        19        5.0   \n",
       "1       1  2679477.0      110001        1        29        2.0   \n",
       "2       1  2679477.0      110001        1        37        9.0   \n",
       "3       1  2516500.0      110001        1        30        5.0   \n",
       "4       1  2516500.0      110001        1        30        2.0   \n",
       "\n",
       "            ESCMAE  CODOCUPMAE  QTDFILVIVO  QTDFILMORT  ...  KOTELCHUCK  \\\n",
       "0      8 a 11 anos         NaN         0.0         0.0  ...           5   \n",
       "1      8 a 11 anos    999992.0         1.0         0.0  ...           5   \n",
       "2      8 a 11 anos    513205.0         2.0         0.0  ...           5   \n",
       "3  12 anos ou mais    231205.0         0.0         0.0  ...           4   \n",
       "4      8 a 11 anos    999992.0         1.0         0.0  ...           5   \n",
       "\n",
       "  CONTADOR munResStatus munResTipo               munResNome  munResUf  \\\n",
       "0        1        ATIVO      MUNIC    Alta Floresta D'Oeste  Rondônia   \n",
       "1        2        ATIVO      MUNIC    Alta Floresta D'Oeste  Rondônia   \n",
       "2        3        ATIVO      MUNIC    Alta Floresta D'Oeste  Rondônia   \n",
       "3        4        ATIVO      MUNIC  Alto Alegre dos Parecis  Rondônia   \n",
       "4        5        ATIVO      MUNIC    Alta Floresta D'Oeste  Rondônia   \n",
       "\n",
       "   munResLat munResLon  munResAlt  munResArea  \n",
       "0  -11.93554 -61.99982      338.0    7067.025  \n",
       "1  -11.93554 -61.99982      338.0    7067.025  \n",
       "2  -11.93554 -61.99982      338.0    7067.025  \n",
       "3  -12.13178 -61.85308      397.0    3958.273  \n",
       "4  -11.93554 -61.99982      338.0    7067.025  \n",
       "\n",
       "[5 rows x 69 columns]"
      ]
     },
     "execution_count": 18,
     "metadata": {},
     "output_type": "execute_result"
    }
   ],
   "source": [
    "sinasc_df = pd.read_csv(\"G:\\\\Downloads\\\\M5E1\\\\M5E1\\\\Tarefa1\\\\SINASC_RO_2019.csv\")\n",
    "sinasc_df.head()"
   ]
  },
  {
   "cell_type": "markdown",
   "metadata": {
    "id": "9GOoel3-lTuD"
   },
   "source": [
    "# Tarefa 2"
   ]
  },
  {
   "cell_type": "markdown",
   "metadata": {
    "id": "iNNeWswTlTuD"
   },
   "source": [
    "### 1. Crie 2 faixas de Latitude do município (munResLat) sendo uma acima e outra abaixo de -10.5 e aplique o groupby usando essas faixas como chave e realize operações de soma, media, minimo, maximo, mediana, desvio padrao, variancia pra pelo menos 2 variáveis numéricas ainda não utilizadas"
   ]
  },
  {
   "cell_type": "code",
   "execution_count": 20,
   "metadata": {
    "id": "HXtelNbnlTuE"
   },
   "outputs": [
    {
     "name": "stdout",
     "output_type": "stream",
     "text": [
      "Tarefa 1:\n",
      "            IDADEMAE                                                 \\\n",
      "                 sum       mean min max median       std        var   \n",
      "FaixaLat                                                              \n",
      "Below -10.5   340143  26.178943  12  53   26.0  6.320385  39.947272   \n",
      "Above -10.5   365094  26.014964  11  52   25.0  6.447663  41.572355   \n",
      "\n",
      "            QTDFILVIVO                                                  \n",
      "                   sum      mean  min   max median       std       var  \n",
      "FaixaLat                                                                \n",
      "Below -10.5    12600.0  0.980011  0.0  30.0    1.0  1.138300  1.295727  \n",
      "Above -10.5    14226.0  1.129317  0.0  12.0    1.0  1.198613  1.436674  \n"
     ]
    },
    {
     "name": "stderr",
     "output_type": "stream",
     "text": [
      "C:\\Users\\suporte\\AppData\\Local\\Temp\\ipykernel_4420\\905804764.py:5: FutureWarning: The default of observed=False is deprecated and will be changed to True in a future version of pandas. Pass observed=False to retain current behavior or observed=True to adopt the future default and silence this warning.\n",
      "  grouped_lat = sinasc_raw.groupby('FaixaLat').agg({\n"
     ]
    }
   ],
   "source": [
    "# Criar faixas de Latitude\n",
    "sinasc_raw['FaixaLat'] = pd.cut(sinasc_raw['munResLat'], bins=[-np.inf, -10.5, np.inf], labels=['Below -10.5', 'Above -10.5'])\n",
    "\n",
    "# Aplicar groupby e realizar iperações estatísticas\n",
    "grouped_lat = sinasc_raw.groupby('FaixaLat').agg({\n",
    "    'IDADEMAE': ['sum', 'mean', 'min', 'max', 'median', 'std', 'var'],\n",
    "    'QTDFILVIVO': ['sum', 'mean', 'min', 'max', 'median', 'std', 'var']\n",
    "})\n",
    "print(\"Tarefa 1:\")\n",
    "print(grouped_lat)"
   ]
  },
  {
   "cell_type": "markdown",
   "metadata": {
    "id": "AK33D0mdlTuE"
   },
   "source": [
    "### 2. Crie 2 faixas da área dos municípios (munResArea) sendo uma acima e outra abaixo de 3000 e aplique o groupby usando essas faixas como chave e realize operações de soma, media, minimo, maximo, mediana, desvio padrao, variancia pra pelo menos 2 variáveis numéricas ainda não utilizadas\n"
   ]
  },
  {
   "cell_type": "code",
   "execution_count": 22,
   "metadata": {
    "id": "qqCXJtYIlTuE"
   },
   "outputs": [
    {
     "name": "stdout",
     "output_type": "stream",
     "text": [
      "\n",
      "Tarefa 2:\n",
      "           IDADEMAE                                                QTDFILVIVO  \\\n",
      "                sum       mean min max median       std        var        sum   \n",
      "FaixaArea                                                                       \n",
      "Below 3000   137389  26.324775  11  53   26.0  6.305535  39.759775     4773.0   \n",
      "Above 3000   567848  26.038518  12  53   25.0  6.405497  41.030387    22053.0   \n",
      "\n",
      "                                                            \n",
      "                mean  min   max median       std       var  \n",
      "FaixaArea                                                   \n",
      "Below 3000  0.924284  0.0  30.0    1.0  1.075442  1.156575  \n",
      "Above 3000  1.086890  0.0  14.0    1.0  1.191750  1.420268  \n"
     ]
    },
    {
     "name": "stderr",
     "output_type": "stream",
     "text": [
      "C:\\Users\\suporte\\AppData\\Local\\Temp\\ipykernel_4420\\842083037.py:5: FutureWarning: The default of observed=False is deprecated and will be changed to True in a future version of pandas. Pass observed=False to retain current behavior or observed=True to adopt the future default and silence this warning.\n",
      "  grouped_area = sinasc_raw.groupby('FaixaArea').agg({\n"
     ]
    }
   ],
   "source": [
    "# Criar faixas de Área\n",
    "sinasc_raw['FaixaArea'] = pd.cut(sinasc_raw['munResArea'], bins=[-np.inf, 3000, np.inf], labels=['Below 3000', 'Above 3000'])\n",
    "\n",
    "# Aplicar groupby e realizar operações estqtísticas\n",
    "grouped_area = sinasc_raw.groupby('FaixaArea').agg({\n",
    "    'IDADEMAE': ['sum', 'mean', 'min', 'max', 'median', 'std', 'var'],\n",
    "    'QTDFILVIVO': ['sum', 'mean', 'min', 'max', 'median', 'std', 'var']\n",
    "})\n",
    "print(\"\\nTarefa 2:\")\n",
    "print(grouped_area)"
   ]
  },
  {
   "cell_type": "markdown",
   "metadata": {
    "id": "aWaljnnxlTuE"
   },
   "source": [
    "### 3. Determine faixas na variável munResAlt e aplique o groupby usando essas faixas como chave e realize operações de soma, media, minimo, maximo, mediana, desvio padrao, variancia pra pelo menos 2 variáveis numéricas ainda não utilizadas"
   ]
  },
  {
   "cell_type": "code",
   "execution_count": 24,
   "metadata": {},
   "outputs": [
    {
     "name": "stdout",
     "output_type": "stream",
     "text": [
      "\n",
      "Tarefa 3:\n",
      "              PESO                                                             \\\n",
      "               sum         mean  min   max  median         std            var   \n",
      "FaixaAlt                                                                        \n",
      "Q1        28470528  3244.874402  295  5135  3280.0  578.354523  334493.954131   \n",
      "Q2        15758876  3250.593234  345  5070  3280.0  524.789502  275404.021840   \n",
      "Q3        22577526  3254.183626  292  5480  3270.0  517.418477  267721.880360   \n",
      "Q4        20846812  3223.567651  258  5985  3260.0  540.681361  292336.334543   \n",
      "\n",
      "           APGAR1                                                  \n",
      "              sum      mean  min   max median       std       var  \n",
      "FaixaAlt                                                           \n",
      "Q1        72098.0  8.270965  0.0  10.0    8.0  0.936486  0.877006  \n",
      "Q2        39053.0  8.088857  0.0  10.0    8.0  1.127916  1.272194  \n",
      "Q3        55562.0  8.010669  0.0  10.0    8.0  0.935960  0.876022  \n",
      "Q4        52436.0  8.129612  0.0  10.0    8.0  0.963406  0.928151  \n"
     ]
    },
    {
     "name": "stderr",
     "output_type": "stream",
     "text": [
      "C:\\Users\\suporte\\AppData\\Local\\Temp\\ipykernel_4420\\2444132126.py:7: FutureWarning: The default of observed=False is deprecated and will be changed to True in a future version of pandas. Pass observed=False to retain current behavior or observed=True to adopt the future default and silence this warning.\n",
      "  grouped_alt = sinasc_raw.groupby('FaixaAlt').agg({\n"
     ]
    }
   ],
   "source": [
    "# Determinar faixas de Altitude usando quartis\n",
    "quartis_alt = sinasc_raw['munResAlt'].quantile([0, 0.25, 0.5, 0.75, 1])\n",
    "labels_alt = ['Q1', 'Q2', 'Q3', 'Q4']\n",
    "sinasc_raw['FaixaAlt'] = pd.qcut(sinasc_raw['munResAlt'], q=4, labels=labels_alt)\n",
    "\n",
    "# Aplicar groupby e realizar operações estatísticas\n",
    "grouped_alt = sinasc_raw.groupby('FaixaAlt').agg({\n",
    "    'PESO': ['sum', 'mean', 'min', 'max', 'median', 'std', 'var'],\n",
    "    'APGAR1': ['sum', 'mean', 'min', 'max', 'median', 'std', 'var']\n",
    "})\n",
    "print(\"\\nTarefa 3:\")\n",
    "print(grouped_alt)"
   ]
  },
  {
   "cell_type": "markdown",
   "metadata": {
    "id": "aF1riawJlTuF"
   },
   "source": [
    "### 4. Plote no mesmo grafico ao longo do tempo a idade media das mulheres de cada regiao imediatas de rondonia\n"
   ]
  },
  {
   "cell_type": "code",
   "execution_count": 68,
   "metadata": {
    "id": "6aZM5xKale9c"
   },
   "outputs": [
    {
     "data": {
      "image/png": "[encoded data removed]",
      "text/plain": [
       "<Figure size 1200x800 with 1 Axes>"
      ]
     },
     "metadata": {},
     "output_type": "display_data"
    }
   ],
   "source": [
    "imediatas = {\n",
    "    \"Candeias do Jamari\": \"Porto Velho\",\n",
    "    \"Guajará-Mirim\": \"Porto Velho\",\n",
    "    \"Itapuã do Oeste\": \"Porto Velho\",\n",
    "    \"Nova Mamoré\": \"Porto Velho\",\n",
    "    \"Porto Velho\": \"Porto Velho\",\n",
    "    \"Ariquemes\": \"Ariquemes\",\n",
    "    \"Alto Paraíso\": \"Ariquemes\",\n",
    "    \"Buritis\": \"Ariquemes\",\n",
    "    \"Cacaulândia\": \"Ariquemes\",\n",
    "    \"Campo Novo de Rondônia\": \"Ariquemes\",\n",
    "    \"Cujubim\": \"Ariquemes\",\n",
    "    \"Monte Negro\": \"Ariquemes\",\n",
    "    \"Rio Crespo\": \"Ariquemes\",\n",
    "    \"Jaru\": \"Jaru\",\n",
    "    \"Governador Jorge Teixeira\": \"Jaru\",\n",
    "    \"Machadinho D'Oeste\": \"Jaru\",\n",
    "    \"Theobroma\": \"Jaru\",\n",
    "    \"Vale do Anari\": \"Jaru\",\n",
    "    \"Alvorada D'Oeste\": \"Ji-Paraná\",\n",
    "    \"Costa Marques\": \"Ji-Paraná\",\n",
    "    \"Ji-Paraná\": \"Ji-Paraná\",\n",
    "    \"Mirante da Serra\": \"Ji-Paraná\",\n",
    "    \"Nova União\": \"Ji-Paraná\",\n",
    "    \"Ouro Preto do Oeste\": \"Ji-Paraná\",\n",
    "    \"Presidente Médici\": \"Ji-Paraná\",\n",
    "    \"São Francisco do Guaporé\": \"Ji-Paraná\",\n",
    "    \"São Miguel do Guaporé\": \"Ji-Paraná\",\n",
    "    \"Seringueiras\": \"Ji-Paraná\",\n",
    "    \"Teixeirópolis\": \"Ji-Paraná\",\n",
    "    \"Urupá\": \"Ji-Paraná\",\n",
    "    \"Vale do Paraíso\": \"Ji-Paraná\",\n",
    "    \"Cacoal\": \"Cacoal\",\n",
    "    \"Alta Floresta D'Oeste\": \"Cacoal\",\n",
    "    \"Alto Alegre dos Parecis\": \"Cacoal\",\n",
    "    \"Castanheiras\": \"Cacoal\",\n",
    "    \"Espigão D'Oeste\": \"Cacoal\",\n",
    "    \"Ministro Andreazza\": \"Cacoal\",\n",
    "    \"Nova Brasilândia D'Oeste\": \"Cacoal\",\n",
    "    \"Novo Horizonte do Oeste\": \"Cacoal\",\n",
    "    \"Parecis\": \"Cacoal\",\n",
    "    \"Pimenta Bueno\": \"Cacoal\",\n",
    "    \"Primavera de Rondônia\": \"Cacoal\",\n",
    "    \"Rolim de Moura\": \"Cacoal\",\n",
    "    \"Santa Luzia D'Oeste\": \"Cacoal\",\n",
    "    \"São Felipe D'Oeste\": \"Cacoal\",\n",
    "    \"Vilhena\": \"Vilhena\",\n",
    "    \"Cabixi\": \"Vilhena\",\n",
    "    \"Cerejeiras\": \"Vilhena\",\n",
    "    \"Chupinguaia\": \"Vilhena\",\n",
    "    \"Colorado do Oeste\": \"Vilhena\",\n",
    "    \"Corumbiara\": \"Vilhena\",\n",
    "    \"Pimenteiras do Oeste\": \"Vilhena\"\n",
    "}\n",
    "\n",
    "\n",
    "# Adicionando coluna de região imediata\n",
    "sinasc_raw['RegiaoImediata'] = sinasc_raw['munResNome'].map(imediatas)\n",
    "\n",
    "# Converter a data de nascimento para o formato correto\n",
    "sinasc_raw['DTNASC'] = pd.to_datetime(sinasc_raw['DTNASC'], format='%d%m%Y', errors='coerce')\n",
    "\n",
    "# Calcular a idade das mães\n",
    "sinasc_raw['IdadeMae'] = 2019 - pd.to_datetime(sinasc_raw['DTNASCMAE'], format='%d%m%Y', errors='coerce').dt.year\n",
    "\n",
    "# Calcular a idade média das mulheres por região imediats ao longo do tempo\n",
    "idade_media_regiao = sinasc_raw.groupby(['RegiaoImediata', sinasc_raw['DTNASC'].dt.year])['IdadeMae'].mean().unstack()\n",
    "\n",
    "# Gráfico\n",
    "plt.figure(figsize=(12, 8))\n",
    "for regiao in idade_media_regiao.columns:\n",
    "    plt.plot(idade_media_regiao.index, idade_media_regiao[regiao], label=regiao)\n",
    "\n",
    "plt.title('Idade Média das Mulheres por Região Imediata ao Longo do Tempo')\n",
    "plt.xlabel('Ano')\n",
    "plt.ylabel('Idade Média')\n",
    "plt.legend(loc='upper left')\n",
    "plt.grid(True)\n",
    "plt.show()"
   ]
  },
  {
   "cell_type": "markdown",
   "metadata": {
    "id": "yt-LIWxblTuF"
   },
   "source": [
    "### 5. Utilize a tabela do link abaixo e crie faixas utilizando o mapping e gere agrupamentos utilizando essas faixas como chave\n"
   ]
  },
  {
   "cell_type": "code",
   "execution_count": 28,
   "metadata": {},
   "outputs": [
    {
     "name": "stdout",
     "output_type": "stream",
     "text": [
      "                 municipio     regiao    idh    ifdm      pib\n",
      "0    Alta Floresta D'Oeste     Cacoal  0.641  0.6337   496000\n",
      "1  Alto Alegre dos Parecis     Cacoal  0.592  0.5046   213410\n",
      "2             Alto Paraíso  Ariquemes  0.625  0.5735   358000\n",
      "3         Alvorada D'Oeste  Ji-Paraná  0.643  0.5919   204098\n",
      "4                Ariquemes  Ariquemes  0.702  0.7746  2579830\n",
      "Index(['municipio', 'regiao', 'idh', 'ifdm', 'pib'], dtype='object')\n"
     ]
    }
   ],
   "source": [
    "#dados_ro = pd.read_csv(r'G:\\Downloads\\M5E1\\M5E1\\Tarefa1\\dados_extras_ro.csv', encoding='latin-1')\n",
    "\n",
    "dados_ro = pd.read_csv(r'G:\\Downloads\\M5E1\\M5E1\\Tarefa1\\dados_extras_ro.csv', encoding='latin-1', delimiter=';')\n",
    "\n",
    "print(dados_ro.head())\n",
    "print(dados_ro.columns)"
   ]
  },
  {
   "cell_type": "code",
   "execution_count": 34,
   "metadata": {},
   "outputs": [
    {
     "name": "stdout",
     "output_type": "stream",
     "text": [
      "municipio    float64\n",
      "regiao       float64\n",
      "idh          float64\n",
      "ifdm         float64\n",
      "pib            int64\n",
      "dtype: object\n"
     ]
    }
   ],
   "source": [
    "# Converter todas as colunas para valores numéricos\n",
    "dados_ro = dados_ro.apply(pd.to_numeric, errors='coerce')\n",
    "\n",
    "# Verificar os tipos de dados das colunas após a conversão\n",
    "print(dados_ro.dtypes)"
   ]
  },
  {
   "cell_type": "markdown",
   "metadata": {},
   "source": [
    "### Afim de facilitar a leitura e o entendimento do código, irei construir a lógico do código primeiro e depois, apenas exibo os resultados em cada etapa da atividade. ###"
   ]
  },
  {
   "cell_type": "markdown",
   "metadata": {},
   "source": [
    "Primeiro irei definir as faixas de cada variável."
   ]
  },
  {
   "cell_type": "code",
   "execution_count": 36,
   "metadata": {},
   "outputs": [],
   "source": [
    "# IDH\n",
    "faixas_idh = {\n",
    "    'IDH muito alto': (0.800, 1.000),\n",
    "    'IDH alto': (0.700, 0.799),\n",
    "    'IDH médio': (0.600, 0.699),\n",
    "    'IDH baixo': (0.500, 0.599),\n",
    "    'IDH muito baixo': (0.000, 0.499)\n",
    "}\n",
    "\n",
    "# IFDM\n",
    "faixas_ifdm = {\n",
    "    'Alto': (0.8, float('inf')),\n",
    "    'Moderado': (0.6, 0.8),\n",
    "    'Regular': (0.4, 0.6),\n",
    "    'Baixo': (-float('inf'), 0.4)\n",
    "}\n",
    "\n",
    "# PIB\n",
    "faixas_pib = {\n",
    "    'Acima de 1 Bilhão': (1e9, float('inf')),\n",
    "    'Acima de 500 Milhões': (5e8, 1e9),\n",
    "    'Acima de 300 Milhões': (3e8, 5e8),\n",
    "    'Acima de 200 Milhões': (2e8, 3e8),\n",
    "    'Acima de 100 Milhões': (1e8, 2e8),\n",
    "    'Até 100 Milhões': (0, 1e8)\n",
    "}\n"
   ]
  },
  {
   "cell_type": "markdown",
   "metadata": {
    "id": "moZakjgIlTuF",
    "jp-MarkdownHeadingCollapsed": true
   },
   "source": [
    "### 5.1 IDH\n",
    "A - https://pt.wikipedia.org/wiki/Lista_de_munic%C3%ADpios_de_Rond%C3%B4nia_por_IDH-M\n"
   ]
  },
  {
   "cell_type": "markdown",
   "metadata": {
    "id": "zhtI6CxtlTuH"
   },
   "source": [
    "### 5.2 IFDM\n",
    "B - https://pt.wikipedia.org/wiki/Lista_de_munic%C3%ADpios_de_Rond%C3%B4nia_por_IFDM\n"
   ]
  },
  {
   "cell_type": "markdown",
   "metadata": {
    "id": "BwdS46EWlTuI"
   },
   "source": [
    "### 5.3 PIB\n",
    "C - https://pt.wikipedia.org/wiki/Lista_de_munic%C3%ADpios_de_Rond%C3%B4nia_por_PIB\n"
   ]
  },
  {
   "cell_type": "code",
   "execution_count": 42,
   "metadata": {
    "scrolled": true
   },
   "outputs": [
    {
     "name": "stdout",
     "output_type": "stream",
     "text": [
      "                 municipio     regiao    idh    ifdm      pib\n",
      "0    Alta Floresta D'Oeste     Cacoal  0.641  0.6337   496000\n",
      "1  Alto Alegre dos Parecis     Cacoal  0.592  0.5046   213410\n",
      "2             Alto Paraíso  Ariquemes  0.625  0.5735   358000\n",
      "3         Alvorada D'Oeste  Ji-Paraná  0.643  0.5919   204098\n",
      "4                Ariquemes  Ariquemes  0.702  0.7746  2579830\n",
      "Index(['municipio', 'regiao', 'idh', 'ifdm', 'pib'], dtype='object')\n",
      "municipio     object\n",
      "regiao        object\n",
      "idh          float64\n",
      "ifdm         float64\n",
      "pib            int64\n",
      "dtype: object\n",
      "                 municipio     regiao    idh    ifdm      pib  Faixa_IDH  \\\n",
      "0    Alta Floresta D'Oeste     Cacoal  0.641  0.6337   496000  IDH médio   \n",
      "1  Alto Alegre dos Parecis     Cacoal  0.592  0.5046   213410  IDH baixo   \n",
      "2             Alto Paraíso  Ariquemes  0.625  0.5735   358000  IDH médio   \n",
      "3         Alvorada D'Oeste  Ji-Paraná  0.643  0.5919   204098  IDH médio   \n",
      "4                Ariquemes  Ariquemes  0.702  0.7746  2579830   IDH alto   \n",
      "\n",
      "  Faixa_IFDM        Faixa_PIB  \n",
      "0   Moderado  Até 100 Milhões  \n",
      "1    Regular  Até 100 Milhões  \n",
      "2    Regular  Até 100 Milhões  \n",
      "3    Regular  Até 100 Milhões  \n",
      "4   Moderado  Até 100 Milhões  \n"
     ]
    }
   ],
   "source": [
    "\n",
    "# Lendo o arquivo CSV\n",
    "dados_ro = pd.read_csv(r'G:\\Downloads\\M5E1\\M5E1\\Tarefa1\\dados_extras_ro.csv', encoding='latin-1', delimiter=';')\n",
    "\n",
    "# Imprimindo as primeiras linhas do DataFrame e suas colunas\n",
    "print(dados_ro.head())\n",
    "print(dados_ro.columns)\n",
    "\n",
    "# Criando um dicionário de mapeamento de 'municipio' para 'regiao'\n",
    "regioes_map = dict(zip(dados_ro['municipio'], dados_ro['regiao']))\n",
    "\n",
    "\n",
    "# Mantendo uma cópia das colunas 'municipio' e 'regiao'\n",
    "municipios = dados_ro['municipio'].copy()\n",
    "regioes = dados_ro['regiao'].copy()\n",
    "\n",
    "\n",
    "# Convertendo todas as colunas para valores numéricos onde possível\n",
    "dados_ro = dados_ro.apply(pd.to_numeric, errors='coerce')\n",
    "\n",
    "# Restaurando as colunas 'municipio' e 'regiao'\n",
    "dados_ro['municipio'] = municipios\n",
    "dados_ro['regiao'] = regioes\n",
    "\n",
    "\n",
    "# Verificando os tipos de dados das colunas após a conversão\n",
    "print(dados_ro.dtypes)\n",
    "\n",
    "# Definindo as faixas para cada variável\n",
    "faixas_idh = {\n",
    "    'IDH muito alto': (0.800, 1.000),\n",
    "    'IDH alto': (0.700, 0.799),\n",
    "    'IDH médio': (0.600, 0.699),\n",
    "    'IDH baixo': (0.500, 0.599),\n",
    "    'IDH muito baixo': (0.000, 0.499)\n",
    "}\n",
    "\n",
    "faixas_ifdm = {\n",
    "    'Alto': (0.8, float('inf')),\n",
    "    'Moderado': (0.6, 0.8),\n",
    "    'Regular': (0.4, 0.6),\n",
    "    'Baixo': (-float('inf'), 0.4)\n",
    "}\n",
    "\n",
    "faixas_pib = {\n",
    "    'Acima de 1 Bilhão': (1e9, float('inf')),\n",
    "    'Acima de 500 Milhões': (5e8, 1e9),\n",
    "    'Acima de 300 Milhões': (3e8, 5e8),\n",
    "    'Acima de 200 Milhões': (2e8, 3e8),\n",
    "    'Acima de 100 Milhões': (1e8, 2e8),\n",
    "    'Até 100 Milhões': (0, 1e8)\n",
    "}\n",
    "\n",
    "# Função para classificar valores nas faixas definidas\n",
    "def classificar_faixas(valor, faixas):\n",
    "    for faixa, (limite_inferior, limite_superior) in faixas.items():\n",
    "        if limite_inferior <= valor <= limite_superior:\n",
    "            return faixa\n",
    "    return None\n",
    "\n",
    "# Aplicando a classificação para as colunas IDH, IFDM e PIB\n",
    "dados_ro['Faixa_IDH'] = dados_ro['idh'].apply(lambda x: classificar_faixas(x, faixas_idh))\n",
    "dados_ro['Faixa_IFDM'] = dados_ro['ifdm'].apply(lambda x: classificar_faixas(x, faixas_ifdm))\n",
    "dados_ro['Faixa_PIB'] = dados_ro['pib'].apply(lambda x: classificar_faixas(x, faixas_pib))\n",
    "\n",
    "# Mostrando as primeiras linhas do DataFrame com as novas colunas de classificação\n",
    "print(dados_ro.head())"
   ]
  },
  {
   "cell_type": "markdown",
   "metadata": {},
   "source": [
    "### Agora irei clasificá-las:"
   ]
  },
  {
   "cell_type": "code",
   "execution_count": 38,
   "metadata": {},
   "outputs": [
    {
     "name": "stdout",
     "output_type": "stream",
     "text": [
      "   municipio  regiao    idh    ifdm      pib  Faixa_IDH Faixa_IFDM  \\\n",
      "0        NaN     NaN  0.641  0.6337   496000  IDH médio   Moderado   \n",
      "1        NaN     NaN  0.592  0.5046   213410  IDH baixo    Regular   \n",
      "2        NaN     NaN  0.625  0.5735   358000  IDH médio    Regular   \n",
      "3        NaN     NaN  0.643  0.5919   204098  IDH médio    Regular   \n",
      "4        NaN     NaN  0.702  0.7746  2579830   IDH alto   Moderado   \n",
      "\n",
      "         Faixa_PIB  \n",
      "0  Até 100 Milhões  \n",
      "1  Até 100 Milhões  \n",
      "2  Até 100 Milhões  \n",
      "3  Até 100 Milhões  \n",
      "4  Até 100 Milhões  \n"
     ]
    }
   ],
   "source": [
    "def classificar_faixas(valor, faixas):\n",
    "    for faixa, (limite_inferior, limite_superior) in faixas.items():\n",
    "        if limite_inferior <= valor <= limite_superior:\n",
    "            return faixa\n",
    "    return None\n",
    "\n",
    "# Aplicar a classificação para as colunas IDH, IFDM e PIB\n",
    "dados_ro['Faixa_IDH'] = dados_ro['idh'].apply(lambda x: classificar_faixas(x, faixas_idh))\n",
    "dados_ro['Faixa_IFDM'] = dados_ro['ifdm'].apply(lambda x: classificar_faixas(x, faixas_ifdm))\n",
    "dados_ro['Faixa_PIB'] = dados_ro['pib'].apply(lambda x: classificar_faixas(x, faixas_pib))\n",
    "\n",
    "# Mostrar as primeiras linhas do dataframe com as novas colunas de faixas\n",
    "print(dados_ro.head())"
   ]
  },
  {
   "cell_type": "markdown",
   "metadata": {
    "id": "bdWGW_xtlTuI"
   },
   "source": [
    "### Analise as respostas encontradas, tire algum insight delas, conte pra gente algo encontrado nos dados."
   ]
  },
  {
   "cell_type": "markdown",
   "metadata": {
    "id": "shZvokfBlTuI"
   },
   "source": [
    "Exemplo:\n",
    "- Ah, descobri que a idade mediana das mulheres que deram a luz no ano de 2019 dos municipios com o PIB mais alto é a maior dentre todas."
   ]
  },
  {
   "cell_type": "code",
   "execution_count": 52,
   "metadata": {
    "id": "f8P7BYYglTuJ"
   },
   "outputs": [
    {
     "name": "stdout",
     "output_type": "stream",
     "text": [
      "Agrupamento por Faixa IDH:\n",
      "Faixa_IDH\n",
      "IDH alto      7\n",
      "IDH baixo     9\n",
      "IDH médio    36\n",
      "dtype: int64\n",
      "\n",
      "Agrupamento por Faixa IFDM:\n",
      "Faixa_IFDM\n",
      "Moderado    26\n",
      "Regular     26\n",
      "dtype: int64\n",
      "\n",
      "Agrupamento por Faixa PIB:\n",
      "Faixa_PIB\n",
      "Até 100 Milhões    52\n",
      "dtype: int64\n",
      "Média do PIB para municípios com IDH muito alto: nan\n",
      "Média do PIB para municípios com IDH alto: 4545286.0\n"
     ]
    }
   ],
   "source": [
    "# Agrupar os dados pelas faixas de IDH, IFDM e PIB\n",
    "agrupamento_idh = dados_ro.groupby('Faixa_IDH').size()\n",
    "agrupamento_ifdm = dados_ro.groupby('Faixa_IFDM').size()\n",
    "agrupamento_pib = dados_ro.groupby('Faixa_PIB').size()\n",
    "\n",
    "# Mostrar os resultados dos agrupamentos\n",
    "print(\"Agrupamento por Faixa IDH:\")\n",
    "print(agrupamento_idh)\n",
    "\n",
    "print(\"\\nAgrupamento por Faixa IFDM:\")\n",
    "print(agrupamento_ifdm)\n",
    "\n",
    "print(\"\\nAgrupamento por Faixa PIB:\")\n",
    "print(agrupamento_pib)\n",
    "\n",
    "# Exemplo de análise e insight:\n",
    "# Analisando o IDH\n",
    "idh_muito_alto = dados_ro[dados_ro['Faixa_IDH'] == 'IDH muito alto']\n",
    "idh_alto = dados_ro[dados_ro['Faixa_IDH'] == 'IDH alto']\n",
    "\n",
    "# Encontrar a média do PIB para municípios com IDH muito alto e IDH alto\n",
    "media_pib_idh_muito_alto = idh_muito_alto['pib'].mean()\n",
    "media_pib_idh_alto = idh_alto['pib'].mean()\n",
    "\n",
    "print(f\"Média do PIB para municípios com IDH muito alto: {media_pib_idh_muito_alto}\")\n",
    "print(f\"Média do PIB para municípios com IDH alto: {media_pib_idh_alto}\")"
   ]
  },
  {
   "cell_type": "markdown",
   "metadata": {},
   "source": [
    "Podemos notar que, no IFDM, todos os municípios estão em apenas duas categorias, moderado e regular, e que, ambos possuem o mesmo número de municípios em cada categoria. No caso do IDH, é notório a prevalência dp IDH médio nos municípios, sendo praticamente 70% de nossa base, dentro dessa categoria."
   ]
  }
 ],
 "metadata": {
  "colab": {
   "provenance": []
  },
  "kernelspec": {
   "display_name": "Python 3 (ipykernel)",
   "language": "python",
   "name": "python3"
  },
  "language_info": {
   "codemirror_mode": {
    "name": "ipython",
    "version": 3
   },
   "file_extension": ".py",
   "mimetype": "text/x-python",
   "name": "python",
   "nbconvert_exporter": "python",
   "pygments_lexer": "ipython3",
   "version": "3.11.7"
  },
  "varInspector": {
   "cols": {
    "lenName": 16,
    "lenType": 16,
    "lenVar": 40
   },
   "kernels_config": {
    "python": {
     "delete_cmd_postfix": "",
     "delete_cmd_prefix": "del ",
     "library": "var_list.py",
     "varRefreshCmd": "print(var_dic_list())"
    },
    "r": {
     "delete_cmd_postfix": ") ",
     "delete_cmd_prefix": "rm(",
     "library": "var_list.r",
     "varRefreshCmd": "cat(var_dic_list()) "
    }
   },
   "types_to_exclude": [
    "module",
    "function",
    "builtin_function_or_method",
    "instance",
    "_Feature"
   ],
   "window_display": false
  }
 },
 "nbformat": 4,
 "nbformat_minor": 4
}
